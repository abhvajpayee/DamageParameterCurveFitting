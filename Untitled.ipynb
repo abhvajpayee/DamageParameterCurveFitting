{
 "cells": [
  {
   "cell_type": "code",
   "execution_count": 1,
   "metadata": {},
   "outputs": [],
   "source": [
    "%matplotlib widget\n",
    "import numpy as np\n",
    "import matplotlib.pyplot as plt\n",
    "import matplotlib.cm as cmx\n",
    "from mpl_toolkits.mplot3d import Axes3D\n",
    "import math\n",
    "import random\n",
    "\n",
    "def sigmoid(x):\n",
    "    return ((1 / (1 + np.exp(-x)))-0.5)*2"
   ]
  },
  {
   "cell_type": "code",
   "execution_count": 13,
   "metadata": {},
   "outputs": [],
   "source": [
    "# f(x) = D1 + D2 exp(D3*x)\n",
    "def hypothesis(x, D):\n",
    "    return D[0] + D[1] * np.exp(D[2] * x)\n",
    "\n",
    "def cost(y, x, D):\n",
    "    #if D[0] < 0 or D[1] < 0 or D[2] > 0:\n",
    "    #    return 100\n",
    "    return np.sum(np.square(y - hypothesis(x, D)))/(x.size)\n",
    "\n",
    "def gradient(y, x, D):\n",
    "    D0 = D + [0.00001, 0, 0]\n",
    "    D1 = D + [0, 0.00001, 0]\n",
    "    D2 = D + [0, 0, 0.00001]\n",
    "    return np.array([(cost(y, x, D0) - cost(y, x, D))/ 0.00001,\n",
    "                     (cost(y, x, D1) - cost(y, x, D))/ 0.00001,\n",
    "                     (cost(y, x, D2) - cost(y, x, D))/ 0.00001])\n",
    "    #return 2 * cost(y, x, D) * np.array([1, np.sum(np.exp(D[2] * x)), np.sum(D[1] * x * np.exp(D[2] * x))])\n",
    "\n",
    "def nextD(y, x, D, alpha, r, debug=0):\n",
    "    cD = cost(y, x, D)\n",
    "    gD = gradient(y, x, D)\n",
    "    sgD = sigmoid(gD)\n",
    "    agD = alpha * sgD * (1 + np.random.uniform(low=-1, high=1, size=(3,)) * r)\n",
    "    nD = D - agD\n",
    "    agD = alpha * sgD * (1 + np.random.uniform(low=-1, high=1, size=(3,)) * r) * 10\n",
    "    cD = cost(y, x, D - agD)    \n",
    "    if cost(y, x, nD) > cost(y, x, D - agD):\n",
    "            nD = D - agD            \n",
    "    agD = alpha * sgD * (1 + np.random.uniform(low=-1, high=1, size=(3,)) * r) * 100\n",
    "    if cost(y, x, nD) > cost(y, x, D - agD):\n",
    "            nD = D - agD            \n",
    "    agD = alpha * sgD * (1 + np.random.uniform(low=-1, high=1, size=(3,)) * r) * 1000\n",
    "    if cost(y, x, nD) > cost(y, x, D - agD):\n",
    "            nD = D - agD            \n",
    "    agD = alpha * sgD * (1 + np.random.uniform(low=-1, high=1, size=(3,)) * r) * 10000\n",
    "    if cost(y, x, nD) > cost(y, x, D - agD):\n",
    "            nD = D - agD            \n",
    "    agD = alpha * sgD * (1 + np.random.uniform(low=-1, high=1, size=(3,)) * r) * 100000\n",
    "    if cost(y, x, nD) > cost(y, x, D - agD):\n",
    "            nD = D - agD            \n",
    "    agD = alpha * sgD * (1 + np.random.uniform(low=-1, high=1, size=(3,)) * r) * 1000000\n",
    "    if cost(y, x, nD) > cost(y, x, D - agD):\n",
    "            nD = D - agD            \n",
    "    agD = alpha * sgD * (1 + np.random.uniform(low=-1, high=1, size=(3,)) * r) * 10000000\n",
    "    if cost(y, x, nD) > cost(y, x, D - agD):\n",
    "            nD = D - agD            \n",
    "    agD = alpha * sgD * (1 + np.random.uniform(low=-1, high=1, size=(3,)) * r) * 100000000\n",
    "    if cost(y, x, nD) > cost(y, x, D - agD):\n",
    "            nD = D - agD            \n",
    "    agD = alpha * sgD * (1 + np.random.uniform(low=-1, high=1, size=(3,)) * r) * 1000000000\n",
    "    if cost(y, x, nD) > cost(y, x, D - agD):\n",
    "            nD = D - agD    \n",
    "    if debug:\n",
    "        print(gD, sgD, agD, D - agD)\n",
    "    return nD \n",
    "\n",
    "def graph(D1, D2, D3, error):\n",
    "    cm = plt.get_cmap(\"RdYlGn\")\n",
    "    x = D1\n",
    "    y = D2\n",
    "    z = D3\n",
    "    col = error\n",
    "    \n",
    "    # 2D Plot\n",
    "    fig = plt.figure()\n",
    "    ax = fig.add_subplot(111)\n",
    "    ax.scatter(x, y, c=error, marker='o')  \n",
    "\n",
    "    # 3D Plot\n",
    "    fig = plt.figure()\n",
    "    ax3D = fig.add_subplot(111, projection='3d')\n",
    "    p3d = ax3D.scatter(x, y, z, s=10, c=col, marker='o') \n",
    "    cbar=plt.colorbar(p3d)\n",
    "\n",
    "    plt.show()\n",
    "    \n",
    "def filterError(D1, D2, D3, error, factor):\n",
    "    cutoffError = min(error) * factor\n",
    "    DD1, DD2, DD3, eerror = [], [], [], []\n",
    "    for idx, val in enumerate(error):\n",
    "        if val < cutoffError:\n",
    "            DD1.append(D1[idx])\n",
    "            DD2.append(D2[idx])\n",
    "            DD3.append(D3[idx])\n",
    "            eerror.append(val)\n",
    "    return DD1, DD2, DD3, eerror"
   ]
  },
  {
   "cell_type": "code",
   "execution_count": 56,
   "metadata": {},
   "outputs": [
    {
     "data": {
      "application/vnd.jupyter.widget-view+json": {
       "model_id": "41ee27dfdc064ec086a17ec3f0be3734",
       "version_major": 2,
       "version_minor": 0
      },
      "text/plain": [
       "Canvas(toolbar=Toolbar(toolitems=[('Home', 'Reset original view', 'home', 'home'), ('Back', 'Back to previous …"
      ]
     },
     "metadata": {},
     "output_type": "display_data"
    },
    {
     "data": {
      "text/plain": [
       "<matplotlib.collections.PathCollection at 0x7fa74be64550>"
      ]
     },
     "execution_count": 56,
     "metadata": {},
     "output_type": "execute_result"
    }
   ],
   "source": [
    "x = np.array([1.0, 0.7, 0.55, 0.3])\n",
    "y = np.array([0.08, 0.1, 0.185, 0.26])\n",
    "\n",
    "D = np.array([np.random.uniform(low=-10, high=10), np.random.uniform(low=-10, high=10), np.random.uniform(low=-10, high=10)])\n",
    "alpha = 0.001\n",
    "r = 0.01\n",
    "fig = plt.figure()\n",
    "ax = fig.add_subplot(111)\n",
    "ax.scatter(x, y)  "
   ]
  },
  {
   "cell_type": "code",
   "execution_count": 15,
   "metadata": {},
   "outputs": [
    {
     "data": {
      "application/vnd.jupyter.widget-view+json": {
       "model_id": "6fb0495f7c2b478fbcd291a6584754d4",
       "version_major": 2,
       "version_minor": 0
      },
      "text/plain": [
       "Canvas(toolbar=Toolbar(toolitems=[('Home', 'Reset original view', 'home', 'home'), ('Back', 'Back to previous …"
      ]
     },
     "metadata": {},
     "output_type": "display_data"
    },
    {
     "data": {
      "text/plain": [
       "<matplotlib.collections.PathCollection at 0x7fa772aacf40>"
      ]
     },
     "execution_count": 15,
     "metadata": {},
     "output_type": "execute_result"
    }
   ],
   "source": [
    "%matplotlib widget\n",
    "D = [0.04, 0.5, -2.5]\n",
    "#x = np.random.uniform(low=-1, high=5, size=(10,))\n",
    "#y = hypothesis(x, D)\n",
    "# 2D Plot\n",
    "fig = plt.figure()\n",
    "ax = fig.add_subplot(111)\n",
    "ax.scatter(x, y)  "
   ]
  },
  {
   "cell_type": "code",
   "execution_count": 16,
   "metadata": {},
   "outputs": [
    {
     "name": "stdout",
     "output_type": "stream",
     "text": [
      "0.00033277959936030163\n"
     ]
    }
   ],
   "source": [
    "print(cost(y, x, D))"
   ]
  },
  {
   "cell_type": "code",
   "execution_count": 17,
   "metadata": {},
   "outputs": [
    {
     "name": "stdout",
     "output_type": "stream",
     "text": [
      "[0. 0. 0.]\n"
     ]
    }
   ],
   "source": [
    "print(gradient(y, x, D))"
   ]
  },
  {
   "cell_type": "code",
   "execution_count": 18,
   "metadata": {},
   "outputs": [
    {
     "name": "stdout",
     "output_type": "stream",
     "text": [
      "[ 0.04  0.5  -2.5 ]\n"
     ]
    }
   ],
   "source": [
    "alpha = [0.001, 0.001, 0.01]\n",
    "print(nextD(y, x, D, alpha, r))"
   ]
  },
  {
   "cell_type": "code",
   "execution_count": 19,
   "metadata": {},
   "outputs": [
    {
     "data": {
      "application/vnd.jupyter.widget-view+json": {
       "model_id": "f8ef487c2ca644c0adafda92f744116d",
       "version_major": 2,
       "version_minor": 0
      },
      "text/plain": [
       "Canvas(toolbar=Toolbar(toolitems=[('Home', 'Reset original view', 'home', 'home'), ('Back', 'Back to previous …"
      ]
     },
     "metadata": {},
     "output_type": "display_data"
    },
    {
     "data": {
      "text/plain": [
       "<matplotlib.collections.PathCollection at 0x7fa772a72370>"
      ]
     },
     "execution_count": 19,
     "metadata": {},
     "output_type": "execute_result"
    }
   ],
   "source": [
    "#x = np.array([0.3315, 0.3345, 0.4890, 0.4980, 0.5070, 0.5150, 0.5150, 0.5970, 0.6070, 0.6150, 0.7430, 0.7470, 0.7640, 0.7995, 0.7995])\n",
    "#y = np.array([0.1505, 0.1445, 0.0345, 0.0350, 0.0320, 0.0320, 0.0350, 0.0300, 0.0290, 0.0300, 0.0230, 0.0210, 0.0225, 0.0210, 0.0230])\n",
    "error = []\n",
    "D1 = []\n",
    "D2 = []\n",
    "D3 = []\n",
    "N = 1000\n",
    "nD = np.array([0, 0, 0]) \n",
    "\n",
    "fig = plt.figure()\n",
    "ax = fig.add_subplot(111)\n",
    "ax.scatter(x, y)  "
   ]
  },
  {
   "cell_type": "code",
   "execution_count": 20,
   "metadata": {},
   "outputs": [
    {
     "data": {
      "application/vnd.jupyter.widget-view+json": {
       "model_id": "f9252edc5ddc4156b74dbb84a7bebc83",
       "version_major": 2,
       "version_minor": 0
      },
      "text/plain": [
       "Canvas(toolbar=Toolbar(toolitems=[('Home', 'Reset original view', 'home', 'home'), ('Back', 'Back to previous …"
      ]
     },
     "metadata": {},
     "output_type": "display_data"
    },
    {
     "data": {
      "application/vnd.jupyter.widget-view+json": {
       "model_id": "142abefc5bff4d279e630a6991db3c0d",
       "version_major": 2,
       "version_minor": 0
      },
      "text/plain": [
       "Canvas(toolbar=Toolbar(toolitems=[('Home', 'Reset original view', 'home', 'home'), ('Back', 'Back to previous …"
      ]
     },
     "metadata": {},
     "output_type": "display_data"
    },
    {
     "data": {
      "application/vnd.jupyter.widget-view+json": {
       "model_id": "458238e2592e4ec280fa45ad85d576ce",
       "version_major": 2,
       "version_minor": 0
      },
      "text/plain": [
       "Canvas(toolbar=Toolbar(toolitems=[('Home', 'Reset original view', 'home', 'home'), ('Back', 'Back to previous …"
      ]
     },
     "metadata": {},
     "output_type": "display_data"
    },
    {
     "name": "stdout",
     "output_type": "stream",
     "text": [
      "[ 0.01132741  0.46051469 -2.00743067] 0.0002725881107576002\n"
     ]
    }
   ],
   "source": [
    "alpha =0.000001 * np.array([1, 1, 1])\n",
    "r = 1\n",
    "\n",
    "e = cost(y, x, nD)\n",
    "error.append(e)\n",
    "D1.append(nD[0])\n",
    "D2.append(nD[1])\n",
    "D3.append(nD[2])\n",
    "for j in range(10000):\n",
    "    nD = nextD(y, x, nD, alpha, r)\n",
    "    e = cost(y, x, nD)\n",
    "    error.append(e)\n",
    "    D1.append(nD[0])\n",
    "    D2.append(nD[1])\n",
    "    D3.append(nD[2])\n",
    "\n",
    "\n",
    "fig = plt.figure()\n",
    "ax = fig.add_subplot(111)\n",
    "ax.plot(range(len(error[-1000:])), error[-1000:], marker='o')\n",
    "\n",
    "fig = plt.figure()\n",
    "ax3D = fig.add_subplot(111, projection='3d')\n",
    "p3d = ax3D.scatter(D1, D2, D3, s=10, c=error, marker='o') \n",
    "cbar=plt.colorbar(p3d)\n",
    "\n",
    "\n",
    "x1 = np.arange(0.3, 0.9, 0.01) #random.uniform(low=0, high=1, size=(10,))\n",
    "y1 = hypothesis(x1, nD)\n",
    "# 2D Plot\n",
    "fig = plt.figure()\n",
    "ax = fig.add_subplot(111)\n",
    "ax.scatter(x, y)  \n",
    "ax.plot(x1, y1)  \n",
    "print(nD, error[-1])"
   ]
  },
  {
   "cell_type": "code",
   "execution_count": 22,
   "metadata": {},
   "outputs": [
    {
     "data": {
      "application/vnd.jupyter.widget-view+json": {
       "model_id": "9b861c97ff83465c8dee1955fcabdc47",
       "version_major": 2,
       "version_minor": 0
      },
      "text/plain": [
       "Canvas(toolbar=Toolbar(toolitems=[('Home', 'Reset original view', 'home', 'home'), ('Back', 'Back to previous …"
      ]
     },
     "metadata": {},
     "output_type": "display_data"
    },
    {
     "data": {
      "text/plain": [
       "<matplotlib.collections.PathCollection at 0x7fa76b99ec70>"
      ]
     },
     "execution_count": 22,
     "metadata": {},
     "output_type": "execute_result"
    }
   ],
   "source": [
    "## 2D Plot\n",
    "fig = plt.figure()\n",
    "ax = fig.add_subplot(111)\n",
    "\n",
    "nnD = []\n",
    "for i,j,k in zip(D1, D2, D3):\n",
    "    #for i,j,k in zip(D1, D2, D3):\n",
    "    nD = [i, j, k]\n",
    "    nnD.append([i, j, k])\n",
    "    #x1 = np.arange(0.3, 0.8, 0.01) #random.uniform(low=0, high=1, size=(10,))\n",
    "    x1 = np.arange(0, 2, 0.01) #random.uniform(low=0, high=1, size=(10,))\n",
    "    y1 = hypothesis(x1, nD)\n",
    "    ax.plot(x1, y1)  \n",
    "ax.scatter(x, y)  \n",
    "#print(nD)"
   ]
  },
  {
   "cell_type": "code",
   "execution_count": 60,
   "metadata": {},
   "outputs": [
    {
     "name": "stdout",
     "output_type": "stream",
     "text": [
      "Warning: Cannot change to a different GUI toolkit: notebook. Using widget instead.\n"
     ]
    },
    {
     "data": {
      "application/vnd.jupyter.widget-view+json": {
       "model_id": "c21ea3d0672d434ea3e8eb1e137dd63c",
       "version_major": 2,
       "version_minor": 0
      },
      "text/plain": [
       "Canvas(toolbar=Toolbar(toolitems=[('Home', 'Reset original view', 'home', 'home'), ('Back', 'Back to previous …"
      ]
     },
     "metadata": {},
     "output_type": "display_data"
    },
    {
     "data": {
      "application/vnd.jupyter.widget-view+json": {
       "model_id": "0d8f941aa69f42e1b8ba576c349ead3b",
       "version_major": 2,
       "version_minor": 0
      },
      "text/plain": [
       "interactive(children=(IntSlider(value=5000, description='w', max=10000), Output()), _dom_classes=('widget-inte…"
      ]
     },
     "metadata": {},
     "output_type": "display_data"
    }
   ],
   "source": [
    "%matplotlib notebook\n",
    "from ipywidgets import *\n",
    "import numpy as np\n",
    "import matplotlib.pyplot as plt\n",
    "import time\n",
    "\n",
    "x1 = np.arange(0, 2, 0.01) #np.array([range(len(nnD))])\n",
    "fig = plt.figure()\n",
    "ax = fig.add_subplot(1, 1, 1)\n",
    "line, = ax.plot(x1, hypothesis(x1, nnD[0]))\n",
    "ax.scatter(x, y)\n",
    "plt.xlim([0, 2])\n",
    "plt.ylim([-0.05, 1])\n",
    "\n",
    "def update(w = (0, len(nnD)-1, 1)):\n",
    "    line.set_ydata(hypothesis(x1, nnD[w]))\n",
    "    fig.canvas.draw_idle()\n",
    "\n",
    "interact(update);    "
   ]
  },
  {
   "cell_type": "code",
   "execution_count": 42,
   "metadata": {},
   "outputs": [
    {
     "name": "stdout",
     "output_type": "stream",
     "text": [
      "Warning: Cannot change to a different GUI toolkit: notebook. Using widget instead.\n"
     ]
    },
    {
     "data": {
      "application/vnd.jupyter.widget-view+json": {
       "model_id": "44b258a64b82492d8b4a3e862a1593a3",
       "version_major": 2,
       "version_minor": 0
      },
      "text/plain": [
       "Canvas(toolbar=Toolbar(toolitems=[('Home', 'Reset original view', 'home', 'home'), ('Back', 'Back to previous …"
      ]
     },
     "metadata": {},
     "output_type": "display_data"
    },
    {
     "data": {
      "application/vnd.jupyter.widget-view+json": {
       "model_id": "6ac30db07152427393cf7fdc56a0142f",
       "version_major": 2,
       "version_minor": 0
      },
      "text/plain": [
       "interactive(children=(FloatSlider(value=1.0, description='w', max=3.0, min=-1.0), Output()), _dom_classes=('wi…"
      ]
     },
     "metadata": {},
     "output_type": "display_data"
    }
   ],
   "source": [
    "%matplotlib notebook\n",
    "from ipywidgets import *\n",
    "import numpy as np\n",
    "import matplotlib.pyplot as plt\n",
    "\n",
    "x = np.linspace(0, 2 * np.pi)\n",
    "fig = plt.figure()\n",
    "ax = fig.add_subplot(1, 1, 1)\n",
    "line, = ax.plot(x, np.sin(x))\n",
    "\n",
    "def update(w = 1.0):\n",
    "    line.set_ydata(np.sin(w * x))\n",
    "    fig.canvas.draw_idle()\n",
    "\n",
    "interact(update);"
   ]
  },
  {
   "cell_type": "code",
   "execution_count": null,
   "metadata": {},
   "outputs": [],
   "source": []
  }
 ],
 "metadata": {
  "kernelspec": {
   "display_name": "Python 3",
   "language": "python",
   "name": "python3"
  },
  "language_info": {
   "codemirror_mode": {
    "name": "ipython",
    "version": 3
   },
   "file_extension": ".py",
   "mimetype": "text/x-python",
   "name": "python",
   "nbconvert_exporter": "python",
   "pygments_lexer": "ipython3",
   "version": "3.8.6"
  }
 },
 "nbformat": 4,
 "nbformat_minor": 4
}
