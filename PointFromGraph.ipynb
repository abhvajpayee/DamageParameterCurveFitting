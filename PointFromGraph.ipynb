{
 "cells": [
  {
   "cell_type": "code",
   "execution_count": 6,
   "metadata": {},
   "outputs": [
    {
     "data": {
      "application/vnd.jupyter.widget-view+json": {
       "model_id": "552891feb2a4493d8eb85e2514004aa4",
       "version_major": 2,
       "version_minor": 0
      },
      "text/plain": [
       "FigureCanvasNbAgg()"
      ]
     },
     "metadata": {},
     "output_type": "display_data"
    },
    {
     "data": {
      "text/plain": [
       "<matplotlib.collections.PathCollection at 0x7fd4fd482e90>"
      ]
     },
     "execution_count": 6,
     "metadata": {},
     "output_type": "execute_result"
    }
   ],
   "source": [
    "%matplotlib widget\n",
    "import matplotlib.pyplot as plt\n",
    "import numpy as np\n",
    "#img = plt.imread(\"damage.png\")\n",
    "fig, ax = plt.subplots(figsize=(10,10))\n",
    "x = [0.3,  0.3,  0.3,  0.3,  0.3, 0.3,  0.3,  0.3,  0.3,  0.4,  0.5,  0.6,  0.7,  0.8,  0.9,  0.9]\n",
    "y = [0.02, 0.04, 0.06, 0.08, 0.1, 0.12, 0.14, 0.16, 0.18, 0.02, 0.02, 0.02, 0.02, 0.02, 0.02, 0.18]\n",
    "x1 = [0.3315, 0.3345, 0.4890, 0.4980, 0.5070, 0.5150, 0.5150, 0.5970, 0.6070, 0.6150, 0.7430, 0.7470, 0.7640, 0.7995, 0.7995]\n",
    "y1 = [0.1505, 0.1445, 0.0345, 0.0350, 0.0320, 0.0320, 0.0350, 0.0300, 0.0290, 0.0300, 0.0230, 0.0210, 0.0225, 0.0210, 0.0230]\n",
    "#ax.grid(True)\n",
    "ax.imshow(img, extent=[0.2565, 0.9225, 0.00, 0.185])\n",
    "ax.scatter(x, y)\n",
    "ax.scatter(x1, y1)"
   ]
  },
  {
   "cell_type": "code",
   "execution_count": null,
   "metadata": {},
   "outputs": [],
   "source": []
  }
 ],
 "metadata": {
  "kernelspec": {
   "display_name": "Python 3",
   "language": "python",
   "name": "python3"
  },
  "language_info": {
   "codemirror_mode": {
    "name": "ipython",
    "version": 3
   },
   "file_extension": ".py",
   "mimetype": "text/x-python",
   "name": "python",
   "nbconvert_exporter": "python",
   "pygments_lexer": "ipython3",
   "version": "3.7.7"
  }
 },
 "nbformat": 4,
 "nbformat_minor": 4
}
