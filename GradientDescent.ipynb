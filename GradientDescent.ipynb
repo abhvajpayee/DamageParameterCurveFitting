{
 "cells": [
  {
   "cell_type": "code",
   "execution_count": 71,
   "metadata": {},
   "outputs": [],
   "source": [
    "%matplotlib widget\n",
    "import numpy as np\n",
    "import matplotlib.pyplot as plt\n",
    "import matplotlib.cm as cmx\n",
    "from mpl_toolkits.mplot3d import Axes3D\n",
    "import math\n",
    "import random\n",
    "\n",
    "def sigmoid(x):\n",
    "    return ((1 / (1 + np.exp(-x)))-0.5)*2"
   ]
  },
  {
   "cell_type": "code",
   "execution_count": 72,
   "metadata": {},
   "outputs": [],
   "source": [
    "# f(x) = D1 + D2 exp(D3*x)\n",
    "def hypothesis(x, D):\n",
    "    return D[0] + D[1] * np.exp(D[2] * x)\n",
    "\n",
    "def cost(y, x, D):\n",
    "    return np.sum(np.square(y - hypothesis(x, D)))/(x.size)\n",
    "\n",
    "def gradient(y, x, D):\n",
    "    D0 = D + [0.00001, 0, 0]\n",
    "    D1 = D + [0, 0.00001, 0]\n",
    "    D2 = D + [0, 0, 0.00001]\n",
    "    return np.array([(cost(y, x, D0) - cost(y, x, D))/ 0.00001,\n",
    "                     (cost(y, x, D1) - cost(y, x, D))/ 0.00001,\n",
    "                     (cost(y, x, D2) - cost(y, x, D))/ 0.00001])\n",
    "    #return 2 * cost(y, x, D) * np.array([1, np.sum(np.exp(D[2] * x)), np.sum(D[1] * x * np.exp(D[2] * x))])\n",
    "\n",
    "def nextD(y, x, D, alpha, r, debug=0):\n",
    "    cD = cost(y, x, D)\n",
    "    gD = gradient(y, x, D)\n",
    "    sgD = sigmoid(gD)\n",
    "    agD = alpha * sgD * (1 + np.random.uniform(low=-1, high=1, size=(3,)) * r)\n",
    "    nD = D - agD\n",
    "    agD = alpha * sgD * (1 + np.random.uniform(low=-1, high=1, size=(3,)) * r) * 10\n",
    "    cD = cost(y, x, D - agD)    \n",
    "    if cost(y, x, nD) > cost(y, x, D - agD):\n",
    "            nD = D - agD            \n",
    "    agD = alpha * sgD * (1 + np.random.uniform(low=-1, high=1, size=(3,)) * r) * 100\n",
    "    if cost(y, x, nD) > cost(y, x, D - agD):\n",
    "            nD = D - agD            \n",
    "    agD = alpha * sgD * (1 + np.random.uniform(low=-1, high=1, size=(3,)) * r) * 1000\n",
    "    if cost(y, x, nD) > cost(y, x, D - agD):\n",
    "            nD = D - agD            \n",
    "    agD = alpha * sgD * (1 + np.random.uniform(low=-1, high=1, size=(3,)) * r) * 10000\n",
    "    if cost(y, x, nD) > cost(y, x, D - agD):\n",
    "            nD = D - agD            \n",
    "    agD = alpha * sgD * (1 + np.random.uniform(low=-1, high=1, size=(3,)) * r) * 100000\n",
    "    if cost(y, x, nD) > cost(y, x, D - agD):\n",
    "            nD = D - agD            \n",
    "    agD = alpha * sgD * (1 + np.random.uniform(low=-1, high=1, size=(3,)) * r) * 1000000\n",
    "    if cost(y, x, nD) > cost(y, x, D - agD):\n",
    "            nD = D - agD            \n",
    "    agD = alpha * sgD * (1 + np.random.uniform(low=-1, high=1, size=(3,)) * r) * 10000000\n",
    "    if cost(y, x, nD) > cost(y, x, D - agD):\n",
    "            nD = D - agD            \n",
    "    agD = alpha * sgD * (1 + np.random.uniform(low=-1, high=1, size=(3,)) * r) * 100000000\n",
    "    if cost(y, x, nD) > cost(y, x, D - agD):\n",
    "            nD = D - agD            \n",
    "    agD = alpha * sgD * (1 + np.random.uniform(low=-1, high=1, size=(3,)) * r) * 1000000000\n",
    "    if cost(y, x, nD) > cost(y, x, D - agD):\n",
    "            nD = D - agD    \n",
    "    if debug:\n",
    "        print(gD, sgD, agD, D - agD)\n",
    "    return nD \n",
    "\n",
    "def graph(D1, D2, D3, error):\n",
    "    cm = plt.get_cmap(\"RdYlGn\")\n",
    "    x = D1\n",
    "    y = D2\n",
    "    z = D3\n",
    "    col = error\n",
    "    \n",
    "    # 2D Plot\n",
    "    fig = plt.figure()\n",
    "    ax = fig.add_subplot(111)\n",
    "    ax.scatter(x, y, c=error, marker='o')  \n",
    "\n",
    "    # 3D Plot\n",
    "    fig = plt.figure()\n",
    "    ax3D = fig.add_subplot(111, projection='3d')\n",
    "    p3d = ax3D.scatter(x, y, z, s=10, c=col, marker='o') \n",
    "    cbar=plt.colorbar(p3d)\n",
    "\n",
    "    plt.show()\n",
    "    \n",
    "def filterError(D1, D2, D3, error, factor):\n",
    "    cutoffError = min(error) * factor\n",
    "    DD1, DD2, DD3, eerror = [], [], [], []\n",
    "    for idx, val in enumerate(error):\n",
    "        if val < cutoffError:\n",
    "            DD1.append(D1[idx])\n",
    "            DD2.append(D2[idx])\n",
    "            DD3.append(D3[idx])\n",
    "            eerror.append(val)\n",
    "    return DD1, DD2, DD3, eerror"
   ]
  },
  {
   "cell_type": "code",
   "execution_count": 73,
   "metadata": {},
   "outputs": [
    {
     "data": {
      "application/vnd.jupyter.widget-view+json": {
       "model_id": "",
       "version_major": 2,
       "version_minor": 0
      },
      "text/plain": [
       "FigureCanvasNbAgg()"
      ]
     },
     "metadata": {},
     "output_type": "display_data"
    },
    {
     "data": {
      "text/plain": [
       "<matplotlib.collections.PathCollection at 0x7ff2eab0c6d0>"
      ]
     },
     "execution_count": 73,
     "metadata": {},
     "output_type": "execute_result"
    }
   ],
   "source": [
    "#x = np.array([0.3315, 0.3345, 0.4890, 0.4980, 0.5070, 0.5150, 0.5150, 0.5970, 0.6070, 0.6150, 0.7430, 0.7470, 0.7640, 0.7995, 0.7995])\n",
    "#y = np.array([0.1505, 0.1445, 0.0345, 0.0350, 0.0320, 0.0320, 0.0350, 0.0300, 0.0290, 0.0300, 0.0230, 0.0210, 0.0225, 0.0210, 0.0230])\n",
    "x = np.array([0.6, 0.6, 0.96, 0.96, 1.3, 1.32, 1.36])\n",
    "y = np.array([0.29, 0.31, 0.18, 0.21, 0.12, 0.12, 0.1])\n",
    "fig = plt.figure()\n",
    "ax = fig.add_subplot(111)\n",
    "ax.scatter(x, y)  "
   ]
  },
  {
   "cell_type": "code",
   "execution_count": 74,
   "metadata": {},
   "outputs": [
    {
     "name": "stdout",
     "output_type": "stream",
     "text": [
      "0.03296957324507451\n"
     ]
    }
   ],
   "source": [
    "e = cost(y, x, [0.025, 16.93, -14.8])\n",
    "print(e)"
   ]
  },
  {
   "cell_type": "code",
   "execution_count": 77,
   "metadata": {},
   "outputs": [
    {
     "name": "stderr",
     "output_type": "stream",
     "text": [
      "/usr/local/lib/python3.7/site-packages/ipykernel_launcher.py:6: RuntimeWarning: overflow encountered in square\n",
      "  \n",
      "/usr/local/lib/python3.7/site-packages/ipykernel_launcher.py:3: RuntimeWarning: overflow encountered in exp\n",
      "  This is separate from the ipykernel package so we can avoid doing imports until\n",
      "/usr/local/lib/python3.7/site-packages/ipykernel_launcher.py:3: RuntimeWarning: overflow encountered in multiply\n",
      "  This is separate from the ipykernel package so we can avoid doing imports until\n",
      "/usr/local/lib64/python3.7/site-packages/numpy/core/fromnumeric.py:86: RuntimeWarning: overflow encountered in reduce\n",
      "  return ufunc.reduce(obj, axis, dtype, out, **passkwargs)\n"
     ]
    },
    {
     "data": {
      "application/vnd.jupyter.widget-view+json": {
       "model_id": "03c53df5e7184d79978e268ba99d4595",
       "version_major": 2,
       "version_minor": 0
      },
      "text/plain": [
       "FigureCanvasNbAgg()"
      ]
     },
     "metadata": {},
     "output_type": "display_data"
    },
    {
     "data": {
      "application/vnd.jupyter.widget-view+json": {
       "model_id": "6ae41304ea2f4bf4a67a2cbad088c7bc",
       "version_major": 2,
       "version_minor": 0
      },
      "text/plain": [
       "FigureCanvasNbAgg()"
      ]
     },
     "metadata": {},
     "output_type": "display_data"
    },
    {
     "data": {
      "application/vnd.jupyter.widget-view+json": {
       "model_id": "ee6899444ebc4053b47b54e4aa9a4d14",
       "version_major": 2,
       "version_minor": 0
      },
      "text/plain": [
       "FigureCanvasNbAgg()"
      ]
     },
     "metadata": {},
     "output_type": "display_data"
    },
    {
     "name": "stdout",
     "output_type": "stream",
     "text": [
      "[-0.19447099  0.73161211 -0.65395249] 0.00010400828437487576\n"
     ]
    }
   ],
   "source": [
    "alpha =1 * np.array([1, 1, 1])\n",
    "r = 1\n",
    "nD = np.array([0, 0, 0])\n",
    "error = []\n",
    "D1 = []\n",
    "D2 = []\n",
    "D3 = []\n",
    "\n",
    "e = cost(y, x, nD)\n",
    "error.append(e)\n",
    "D1.append(nD[0])\n",
    "D2.append(nD[1])\n",
    "D3.append(nD[2])\n",
    "for j in range(100000):\n",
    "    nD = nextD(y, x, nD, alpha, r)\n",
    "    e = cost(y, x, nD)\n",
    "    error.append(e)\n",
    "    D1.append(nD[0])\n",
    "    D2.append(nD[1])\n",
    "    D3.append(nD[2])\n",
    "\n",
    "\n",
    "fig = plt.figure()\n",
    "ax = fig.add_subplot(111)\n",
    "ax.plot(range(len(error[-1000:])), error[-1000:], marker='o')\n",
    "\n",
    "fig = plt.figure()\n",
    "ax3D = fig.add_subplot(111, projection='3d')\n",
    "p3d = ax3D.scatter(D1, D2, D3, s=10, c=error, marker='o') \n",
    "cbar=plt.colorbar(p3d)\n",
    "\n",
    "\n",
    "x1 = np.arange(0.3, 1.5, 0.01) #random.uniform(low=0, high=1, size=(10,))\n",
    "y1 = hypothesis(x1, nD)\n",
    "# 2D Plot\n",
    "fig = plt.figure()\n",
    "ax = fig.add_subplot(111)\n",
    "ax.scatter(x, y)  \n",
    "ax.plot(x1, y1)  \n",
    "print(nD, error[-1])"
   ]
  },
  {
   "cell_type": "code",
   "execution_count": 76,
   "metadata": {},
   "outputs": [
    {
     "name": "stdout",
     "output_type": "stream",
     "text": [
      "Warning: Cannot change to a different GUI toolkit: notebook. Using widget instead.\n"
     ]
    },
    {
     "data": {
      "application/vnd.jupyter.widget-view+json": {
       "model_id": "a1a7cf16e5eb418dbd74c881222367b4",
       "version_major": 2,
       "version_minor": 0
      },
      "text/plain": [
       "FigureCanvasNbAgg()"
      ]
     },
     "metadata": {},
     "output_type": "display_data"
    },
    {
     "data": {
      "application/vnd.jupyter.widget-view+json": {
       "model_id": "37a7875d4c6c4d1bb0c3441a50b0ae98",
       "version_major": 2,
       "version_minor": 0
      },
      "text/plain": [
       "interactive(children=(IntSlider(value=50000, description='w', max=100000), Output()), _dom_classes=('widget-in…"
      ]
     },
     "metadata": {},
     "output_type": "display_data"
    }
   ],
   "source": [
    "%matplotlib notebook\n",
    "from ipywidgets import *\n",
    "import numpy as np\n",
    "import matplotlib.pyplot as plt\n",
    "import time\n",
    "\n",
    "nnD = []\n",
    "for i in zip(D1, D2, D3):\n",
    "    nnD.append(i)\n",
    "\n",
    "x1 = np.arange(0, 2, 0.01) #np.array([range(len(nnD))])\n",
    "fig = plt.figure()\n",
    "ax = fig.add_subplot(1, 1, 1)\n",
    "line, = ax.plot(x1, hypothesis(x1, nnD[0]))\n",
    "ax.scatter(x, y)\n",
    "plt.xlim([0, 2])\n",
    "plt.ylim([-0.05, 1])\n",
    "\n",
    "def update(w = (0, len(nnD)-1, 1)):\n",
    "    line.set_ydata(hypothesis(x1, nnD[w]))\n",
    "    fig.canvas.draw_idle()\n",
    "\n",
    "interact(update);    "
   ]
  },
  {
   "cell_type": "code",
   "execution_count": 82,
   "metadata": {},
   "outputs": [
    {
     "name": "stdout",
     "output_type": "stream",
     "text": [
      "0.00010810824270909395\n"
     ]
    },
    {
     "data": {
      "application/vnd.jupyter.widget-view+json": {
       "model_id": "5b1e9d1c431f40d587299a85d4f5a66a",
       "version_major": 2,
       "version_minor": 0
      },
      "text/plain": [
       "FigureCanvasNbAgg()"
      ]
     },
     "metadata": {},
     "output_type": "display_data"
    },
    {
     "name": "stdout",
     "output_type": "stream",
     "text": [
      "[-0.19447099  0.73161211 -0.65395249] 0.00010400828437487576\n"
     ]
    }
   ],
   "source": [
    "D = np.array([-0.19447099, 0.73161211, -0.65395249])\n",
    "D = np.array([-0.1895, 0.7324, -0.6633])\n",
    "e = cost(y, x, D)\n",
    "print(e)\n",
    "x1 = np.arange(0.3, 1.5, 0.01) #random.uniform(low=0, high=1, size=(10,))\n",
    "y1 = hypothesis(x1, D)\n",
    "# 2D Plot\n",
    "fig = plt.figure()\n",
    "ax = fig.add_subplot(111)\n",
    "ax.scatter(x, y)  \n",
    "ax.plot(x1, y1)  \n",
    "print(nD, error[-1])"
   ]
  },
  {
   "cell_type": "code",
   "execution_count": null,
   "metadata": {},
   "outputs": [],
   "source": []
  }
 ],
 "metadata": {
  "kernelspec": {
   "display_name": "Python 3",
   "language": "python",
   "name": "python3"
  },
  "language_info": {
   "codemirror_mode": {
    "name": "ipython",
    "version": 3
   },
   "file_extension": ".py",
   "mimetype": "text/x-python",
   "name": "python",
   "nbconvert_exporter": "python",
   "pygments_lexer": "ipython3",
   "version": "3.7.7"
  }
 },
 "nbformat": 4,
 "nbformat_minor": 4
}
